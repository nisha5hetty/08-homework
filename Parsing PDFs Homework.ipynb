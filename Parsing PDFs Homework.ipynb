{
 "cells": [
  {
   "cell_type": "markdown",
   "metadata": {},
   "source": [
    "# Parsing PDFs Homework\n",
    "\n",
    "With the power of pdfminer, pytesseract, Camelot, and Tika, let's analyze some documents!\n",
    "\n",
    "> If at any point you think, **\"I'm close enough, I'd just edit the rest of it in Excel\"**: that's fine! Just make a note of it.\n",
    "\n",
    "## A trick to use again and again\n",
    "\n",
    "### Approach 1\n",
    "\n",
    "Before we get started: when you want to take the first row of your data and set it as the header, use this trick."
   ]
  },
  {
   "cell_type": "code",
   "execution_count": null,
   "metadata": {},
   "outputs": [],
   "source": [
    "import pandas as pd\n",
    "import camelot"
   ]
  },
  {
   "cell_type": "code",
   "execution_count": null,
   "metadata": {},
   "outputs": [],
   "source": [
    "df = pd.DataFrame([\n",
    "    [ 'fruit name', 'likes' ],\n",
    "    [ 'apple', 15 ],\n",
    "    [ 'carrot', 3 ],\n",
    "    [ 'sweet potato', 45 ],\n",
    "    [ 'peach', 12 ],\n",
    "])\n",
    "df"
   ]
  },
  {
   "cell_type": "code",
   "execution_count": null,
   "metadata": {},
   "outputs": [],
   "source": [
    "# Set the first column as the columns\n",
    "df.columns = df.loc[0]\n",
    "\n",
    "# Drop the first row\n",
    "df = df.drop(0)\n",
    "\n",
    "df"
   ]
  },
  {
   "cell_type": "markdown",
   "metadata": {},
   "source": [
    "🚀 Done!\n",
    "\n",
    "### Approach 2\n",
    "\n",
    "Another alternative is to use `.rename` on your columns and just filter out the columns you aren't interested in. This can be useful if the column name shows up multiple times in your data for some reason or another."
   ]
  },
  {
   "cell_type": "code",
   "execution_count": null,
   "metadata": {},
   "outputs": [],
   "source": [
    "# Starting with the same-ish data...\n",
    "df = pd.DataFrame([\n",
    "    [ 'fruit name', 'likes' ],\n",
    "    [ 'apple', 15 ],\n",
    "    [ 'carrot', 3 ],\n",
    "    [ 'fruit name', 'likes' ],\n",
    "    [ 'sweet potato', 45 ],\n",
    "    [ 'peach', 12 ],\n",
    "])\n",
    "df"
   ]
  },
  {
   "cell_type": "code",
   "execution_count": null,
   "metadata": {},
   "outputs": [],
   "source": [
    "df = df.rename(columns={\n",
    "    0: 'fruit name',\n",
    "    1: 'likes'\n",
    "})\n",
    "df = df[df['fruit name'] != 'fruit name']\n",
    "df"
   ]
  },
  {
   "cell_type": "markdown",
   "metadata": {},
   "source": [
    "🚀 Done!\n",
    "\n",
    "### Useful tips about coordinates\n",
    "\n",
    "If you want to grab only a section of the page [Kull](https://jsoma.github.io/kull/#/) might be helpful in finding the coordinates.\n",
    "\n",
    "> **Alternatively** run `%matplotlib notebook` in a cell. Afterwards, every time you use something like `camelot.plot(tables[0]).show()` it will get you nice zoomable, hoverable versions that include `x` and `y` coordinates as you move your mouse.\n",
    "\n",
    "Coordinates are given as `\"left_x,top_y,right_x,bottom_y\"` with `(0,0)` being in the bottom left-hand corner.\n",
    "\n",
    "Note that all coordinates are strings, for some reason. It won't be `[1, 2, 3, 4]` it will be `['1,2,3,4']`\n",
    "\n",
    "# The homework\n",
    "\n",
    "This is **mostly Camelot work**, because I don't really have any good image-based PDFs to stretch your wings on tesseract. If you know of any, let me know and I can put together another couple exercises.\n",
    "\n",
    "## Prison Inmates\n",
    "\n",
    "Working from [InmateList.pdf](InmateList.pdf), save a CSV file that includes every inmate.\n",
    "\n",
    "* Make sure your rows are *all data*, and you don't have any people named \"Inmate Name.\"\n"
   ]
  },
  {
   "cell_type": "code",
   "execution_count": null,
   "metadata": {},
   "outputs": [],
   "source": [
    "# Include all pages and check how many tables there are\n",
    "inmate_tables = camelot.read_pdf(\"InmateList.pdf\", flavor='stream', pages='1-end')\n",
    "inmate_tables"
   ]
  },
  {
   "cell_type": "code",
   "execution_count": null,
   "metadata": {},
   "outputs": [],
   "source": [
    "inmate_tables[0].df"
   ]
  },
  {
   "cell_type": "code",
   "execution_count": null,
   "metadata": {},
   "outputs": [],
   "source": [
    "df = [inmate_table.df for inmate_table in inmate_tables]\n",
    "df = pd.concat(df, ignore_index=True)\n",
    "df"
   ]
  },
  {
   "cell_type": "code",
   "execution_count": null,
   "metadata": {},
   "outputs": [],
   "source": [
    "# Drop the first three rows\n",
    "df = df.drop([0,1,2])"
   ]
  },
  {
   "cell_type": "code",
   "execution_count": null,
   "metadata": {},
   "outputs": [],
   "source": [
    "# Rename all the columns\n",
    "df = df.rename(columns={\n",
    "    0: 'ICN #',\n",
    "    1: 'Inmate Name',\n",
    "    2: 'Facility',\n",
    "    3: 'Booking Date',\n",
    "    4: 'Booking Date',\n",
    "    5: 'Booking Date'\n",
    "})\n",
    "df"
   ]
  },
  {
   "cell_type": "code",
   "execution_count": null,
   "metadata": {},
   "outputs": [],
   "source": [
    "InmateNames = pd.DataFrame(df['Inmate Name'])\n",
    "InmateNames"
   ]
  },
  {
   "cell_type": "code",
   "execution_count": null,
   "metadata": {},
   "outputs": [],
   "source": [
    "# Convert it into a csv\n",
    "InmateNames.to_csv('InmateNames.csv', index=False)"
   ]
  },
  {
   "cell_type": "markdown",
   "metadata": {},
   "source": [
    "## WHO resolutions\n",
    "\n",
    "Using [A74_R13-en.pdf](A74_R13-en.pdf), what ten member countries are given the highest assessments?\n",
    "\n",
    "* You might need to have two separate queries, and combine the results: that last page is pretty awful!\n",
    "* Always rename your columns\n",
    "* Double-check that your sorting looks right......\n",
    "* You can still get the answer even without perfectly clean data"
   ]
  },
  {
   "cell_type": "code",
   "execution_count": null,
   "metadata": {},
   "outputs": [],
   "source": [
    "# Include all pages and check how many tables there are\n",
    "who_tables = camelot.read_pdf(\"A74_R13-en.pdf\", flavor='stream', pages='1-end')\n",
    "who_tables"
   ]
  },
  {
   "cell_type": "code",
   "execution_count": null,
   "metadata": {},
   "outputs": [],
   "source": [
    "df = [who_table.df for who_table in who_tables]\n",
    "df = pd.concat(df, ignore_index = True)"
   ]
  },
  {
   "cell_type": "code",
   "execution_count": null,
   "metadata": {},
   "outputs": [],
   "source": []
  },
  {
   "cell_type": "code",
   "execution_count": null,
   "metadata": {},
   "outputs": [],
   "source": []
  },
  {
   "cell_type": "code",
   "execution_count": null,
   "metadata": {},
   "outputs": [],
   "source": []
  },
  {
   "cell_type": "markdown",
   "metadata": {},
   "source": [
    "## The Avengers\n",
    "\n",
    "Using [THE_AVENGERS.pdf](THE_AVENGERS.pdf), approximately how many lines does Captain America have as compared to Thor and Iron Man?\n",
    "\n",
    "* Character names only: we're only counting `IRON MAN` as Iron Man, not `TONY`.\n",
    "* Your new best friend might be `\\n`\n",
    "* Look up `.count` for strings"
   ]
  },
  {
   "cell_type": "code",
   "execution_count": null,
   "metadata": {},
   "outputs": [],
   "source": [
    "import tika\n",
    "from tika import parser"
   ]
  },
  {
   "cell_type": "code",
   "execution_count": null,
   "metadata": {},
   "outputs": [],
   "source": [
    "parsed = parser.from_file('THE_AVENGERS.pdf')"
   ]
  },
  {
   "cell_type": "code",
   "execution_count": null,
   "metadata": {},
   "outputs": [],
   "source": [
    "parsed.keys()"
   ]
  },
  {
   "cell_type": "code",
   "execution_count": null,
   "metadata": {},
   "outputs": [],
   "source": [
    "# Check pdf\n",
    "print(parsed['content'].strip())"
   ]
  },
  {
   "cell_type": "code",
   "execution_count": null,
   "metadata": {},
   "outputs": [],
   "source": [
    "# Find out number of lines for IRON MAN\n",
    "IRON_MAN = parsed['content'].strip().count('\\nIRON MAN\\n')\n",
    "IRON_MAN"
   ]
  },
  {
   "cell_type": "code",
   "execution_count": null,
   "metadata": {},
   "outputs": [],
   "source": [
    "# Find out number of lines for THOR\n",
    "THOR = parsed['content'].strip().count('\\nTHOR\\n')\n",
    "THOR"
   ]
  },
  {
   "cell_type": "code",
   "execution_count": null,
   "metadata": {},
   "outputs": [],
   "source": [
    "# Find out number of lines for CAPTAIN AMERICA\n",
    "CAPTAIN_AMERICA = parsed['content'].strip().count('\\nCAPTAIN AMERICA\\n')\n",
    "CAPTAIN_AMERICA"
   ]
  },
  {
   "cell_type": "code",
   "execution_count": null,
   "metadata": {},
   "outputs": [],
   "source": []
  },
  {
   "cell_type": "markdown",
   "metadata": {},
   "source": [
    "## COVID data\n",
    "\n",
    "Using [covidweekly2721.pdf](covidweekly2721.pdf), what's the total number of tests performed in Minnesota? Use the Laboratory Test Rates by County of Residence chart.\n",
    "\n",
    "* You COULD pull both tables separately OR you could pull them both at once and split them in pandas.\n",
    "* Remember you can do things like `df[['name','age']]` to ask for multiple columns"
   ]
  },
  {
   "cell_type": "code",
   "execution_count": null,
   "metadata": {},
   "outputs": [],
   "source": [
    "# Include all pages and check how many tables there are\n",
    "covid_tables = camelot.read_pdf(\"covidweekly2721.pdf\", flavor='lattice', pages='1-end')"
   ]
  },
  {
   "cell_type": "code",
   "execution_count": null,
   "metadata": {},
   "outputs": [],
   "source": [
    "# Look at page 6\n",
    "covid_tables = camelot.read_pdf(\"covidweekly2721.pdf\", flavor='lattice', pages='6')\n",
    "covid_tables"
   ]
  },
  {
   "cell_type": "code",
   "execution_count": null,
   "metadata": {},
   "outputs": [],
   "source": [
    "covid_tables[1].df"
   ]
  },
  {
   "cell_type": "code",
   "execution_count": null,
   "metadata": {},
   "outputs": [],
   "source": [
    "df = pd.DataFrame(covid_tables[1].df)\n",
    "df"
   ]
  },
  {
   "cell_type": "code",
   "execution_count": null,
   "metadata": {},
   "outputs": [],
   "source": [
    "df.columns = df.loc[0]"
   ]
  },
  {
   "cell_type": "code",
   "execution_count": null,
   "metadata": {},
   "outputs": [],
   "source": [
    "df = df.drop(0)\n",
    "df"
   ]
  },
  {
   "cell_type": "code",
   "execution_count": null,
   "metadata": {},
   "outputs": [],
   "source": []
  },
  {
   "cell_type": "code",
   "execution_count": null,
   "metadata": {},
   "outputs": [],
   "source": []
  },
  {
   "cell_type": "code",
   "execution_count": null,
   "metadata": {},
   "outputs": [],
   "source": []
  },
  {
   "cell_type": "code",
   "execution_count": null,
   "metadata": {},
   "outputs": [],
   "source": []
  },
  {
   "cell_type": "code",
   "execution_count": null,
   "metadata": {},
   "outputs": [],
   "source": []
  },
  {
   "cell_type": "markdown",
   "metadata": {},
   "source": [
    "## Theme Parks\n",
    "\n",
    "Using [2019-Theme-Index-web-1.pdf](2019-Theme-Index-web-1.pdf), save a CSV of the top 10 theme park groups worldwide.\n",
    "\n",
    "* You can clean the results or you can restrict the area the table is pulled from, up to you"
   ]
  },
  {
   "cell_type": "code",
   "execution_count": null,
   "metadata": {},
   "outputs": [],
   "source": [
    "# Include all pages and check how many tables there are\n",
    "theme_tables = camelot.read_pdf(\"2019-Theme-Index-web-1.pdf\", flavor='stream', pages='1-end')\n",
    "theme_tables"
   ]
  },
  {
   "cell_type": "code",
   "execution_count": null,
   "metadata": {},
   "outputs": [],
   "source": [
    "# Look at page 11\n",
    "theme_tables = camelot.read_pdf(\"2019-Theme-Index-web-1.pdf\", flavor='stream', pages='11)\n",
    "theme_tables"
   ]
  },
  {
   "cell_type": "code",
   "execution_count": null,
   "metadata": {},
   "outputs": [],
   "source": [
    "df = theme_tables[0].df\n",
    "df"
   ]
  },
  {
   "cell_type": "code",
   "execution_count": null,
   "metadata": {},
   "outputs": [],
   "source": []
  },
  {
   "cell_type": "markdown",
   "metadata": {},
   "source": [
    "## Hunting licenses\n",
    "\n",
    "Using [US_Fish_and_Wildlife_Service_2021.pdf](US_Fish_and_Wildlife_Service_2021.pdf) and [a CSV of state populations](http://goodcsv.com/geography/us-states-territories/), find the states with the highest per-capita hunting license holders."
   ]
  },
  {
   "cell_type": "code",
   "execution_count": null,
   "metadata": {},
   "outputs": [],
   "source": [
    "hunting_tables = camelot.read_pdf(\"US_Fish_and_Wildlife_Service_2021.pdf\", flavor='lattice', pages='1')\n",
    "hunting_tables"
   ]
  },
  {
   "cell_type": "code",
   "execution_count": null,
   "metadata": {},
   "outputs": [],
   "source": [
    "df = tables[0].df\n",
    "df"
   ]
  },
  {
   "cell_type": "code",
   "execution_count": null,
   "metadata": {},
   "outputs": [],
   "source": [
    "# Make the first row the columns\n",
    "df.columns = df.loc[0]"
   ]
  },
  {
   "cell_type": "code",
   "execution_count": null,
   "metadata": {},
   "outputs": [],
   "source": [
    "# Drop the first row\n",
    "df = df.drop(0)"
   ]
  },
  {
   "cell_type": "code",
   "execution_count": null,
   "metadata": {},
   "outputs": [],
   "source": [
    "df['State'] = df.State.str.strip()"
   ]
  },
  {
   "cell_type": "code",
   "execution_count": null,
   "metadata": {},
   "outputs": [],
   "source": [
    "states = pd.read_csv(\"us-states-territories.csv\")\n",
    "states"
   ]
  },
  {
   "cell_type": "code",
   "execution_count": null,
   "metadata": {},
   "outputs": [],
   "source": [
    "states['Abbreviation'] = states.Abbreviation.str.strip()"
   ]
  },
  {
   "cell_type": "code",
   "execution_count": null,
   "metadata": {},
   "outputs": [],
   "source": [
    "# Combine\n",
    "combined = df.merge(statse, left_on='State', right_on='Abbreviation')\n",
    "combined"
   ]
  },
  {
   "cell_type": "code",
   "execution_count": null,
   "metadata": {},
   "outputs": [],
   "source": [
    "updated_df = combined[['State', 'Name','Population (2019)','Paid Hunting License \\nHolders*']]"
   ]
  },
  {
   "cell_type": "code",
   "execution_count": null,
   "metadata": {},
   "outputs": [],
   "source": []
  },
  {
   "cell_type": "code",
   "execution_count": null,
   "metadata": {},
   "outputs": [],
   "source": []
  },
  {
   "cell_type": "code",
   "execution_count": null,
   "metadata": {},
   "outputs": [],
   "source": []
  },
  {
   "cell_type": "code",
   "execution_count": null,
   "metadata": {},
   "outputs": [],
   "source": []
  },
  {
   "cell_type": "code",
   "execution_count": null,
   "metadata": {},
   "outputs": [],
   "source": []
  },
  {
   "cell_type": "code",
   "execution_count": null,
   "metadata": {},
   "outputs": [],
   "source": []
  },
  {
   "cell_type": "code",
   "execution_count": null,
   "metadata": {},
   "outputs": [],
   "source": []
  },
  {
   "cell_type": "code",
   "execution_count": null,
   "metadata": {},
   "outputs": [],
   "source": []
  }
 ],
 "metadata": {
  "kernelspec": {
   "display_name": "Python 3",
   "language": "python",
   "name": "python3"
  },
  "language_info": {
   "codemirror_mode": {
    "name": "ipython",
    "version": 3
   },
   "file_extension": ".py",
   "mimetype": "text/x-python",
   "name": "python",
   "nbconvert_exporter": "python",
   "pygments_lexer": "ipython3",
   "version": "3.8.10"
  }
 },
 "nbformat": 4,
 "nbformat_minor": 4
}
